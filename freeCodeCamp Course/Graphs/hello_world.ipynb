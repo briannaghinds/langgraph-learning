{
 "cells": [
  {
   "cell_type": "markdown",
   "id": "ab7ee69c",
   "metadata": {},
   "source": [
    "## Hello World Agent\n",
    "End Graph:\n",
    "$$START -> NODE -> END$$\n",
    "\n",
    "This graph definition is the simplest define that can be done in LangGraph. This graph is NOT an agent, it is simply a workflow."
   ]
  },
  {
   "cell_type": "code",
   "execution_count": 3,
   "id": "23328931",
   "metadata": {},
   "outputs": [],
   "source": [
    "from typing import TypedDict, Dict\n",
    "from langgraph.graph import StateGraph"
   ]
  },
  {
   "cell_type": "code",
   "execution_count": 4,
   "id": "35b1cd7e",
   "metadata": {},
   "outputs": [
    {
     "data": {
      "text/plain": [
       "' The goal of this agent is to be a personalized greeter (ex: Hello {name}, you are doing a great job!)\\n\\nSTEPS:\\n1. define an agent state class\\n2. define tool function (this will be the node)\\n3. create a LangGraph structure\\n'"
      ]
     },
     "execution_count": 4,
     "metadata": {},
     "output_type": "execute_result"
    }
   ],
   "source": [
    "\"\"\" The goal of this agent is to be a personalized greeter (ex: Hello {name}, you are doing a great job!)\n",
    "\n",
    "STEPS:\n",
    "1. define an agent state class\n",
    "2. define tool function (this will be the node)\n",
    "3. create a LangGraph structure\n",
    "\"\"\""
   ]
  },
  {
   "cell_type": "code",
   "execution_count": null,
   "id": "e498513f",
   "metadata": {},
   "outputs": [],
   "source": [
    "# STEP 1: define agent state class which evokes TypeDict, and define the keys\n",
    "# the AgentState is the memory that keeps the context of the application\n",
    "class AgentState(TypedDict):\n",
    "    message: str\n",
    "\n",
    "# STEP 2: define a tool function/method that will be responsible for greeting\n",
    "# because this is what the AgentState uses, it needs to take in the State, and output the new updated State\n",
    "# the tool will also need a DocString, which defines to the Agent when and where to use the function\n",
    "def personalized_greeter(state: AgentState) -> AgentState:\n",
    "    \"\"\"\n",
    "    Simple node that adds a greeting message to the state.\n",
    "    \"\"\"\n",
    "    # we are calling state (a Dictionary) and we want to change the message key\n",
    "    state[\"message\"] = f\"Hello {state['message']}, you are doing a great job!\"\n",
    "\n",
    "    # return the new updated state\n",
    "    return state"
   ]
  },
  {
   "cell_type": "code",
   "execution_count": null,
   "id": "e6357707",
   "metadata": {},
   "outputs": [],
   "source": [
    "# STEP 3: define and build the graph structure\n",
    "workflow = StateGraph(AgentState)  # the graph takes the State memory dict structure\n",
    "\n",
    "# define the nodes and edges\n",
    "workflow.add_node(\"Greeter\", personalized_greeter)\n",
    "workflow.set_entry_point(\"Greeter\")  # this is the same as calling add_edge(START, key)\n",
    "workflow.set_finish_point(\"Greeter\")\n",
    "\n",
    "application = workflow.compile()"
   ]
  },
  {
   "cell_type": "code",
   "execution_count": 7,
   "id": "b89934fa",
   "metadata": {},
   "outputs": [
    {
     "data": {
      "image/png": "[encoded data removed]",
      "text/plain": [
       "<IPython.core.display.Image object>"
      ]
     },
     "metadata": {},
     "output_type": "display_data"
    }
   ],
   "source": [
    "# extra step, but this visualizes the graph we created in LangGraph\n",
    "from IPython.display import Image, display\n",
    "display(Image(application.get_graph().draw_mermaid_png()))"
   ]
  },
  {
   "cell_type": "code",
   "execution_count": 11,
   "id": "6a073bd6",
   "metadata": {},
   "outputs": [
    {
     "data": {
      "text/plain": [
       "'Hello Bob, you are doing a great job!'"
      ]
     },
     "execution_count": 11,
     "metadata": {},
     "output_type": "execute_result"
    }
   ],
   "source": [
    "# run the application\n",
    "input_val = {\"message\": \"Bob\"}  # needs to be in dictionary form\n",
    "result = application.invoke(input_val)\n",
    "result[\"message\"]"
   ]
  }
 ],
 "metadata": {
  "kernelspec": {
   "display_name": "Python 3",
   "language": "python",
   "name": "python3"
  },
  "language_info": {
   "codemirror_mode": {
    "name": "ipython",
    "version": 3
   },
   "file_extension": ".py",
   "mimetype": "text/x-python",
   "name": "python",
   "nbconvert_exporter": "python",
   "pygments_lexer": "ipython3",
   "version": "3.11.4"
  }
 },
 "nbformat": 4,
 "nbformat_minor": 5
}
