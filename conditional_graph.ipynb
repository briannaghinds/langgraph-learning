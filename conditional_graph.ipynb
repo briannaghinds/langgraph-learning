{
 "cells": [
  {
   "cell_type": "markdown",
   "id": "5939c07b",
   "metadata": {},
   "source": [
    "## Conditional Graph\n",
    "The objective of this graph is to:\n",
    "1. implement conditional logic to route the flow of data to different nodes.\n",
    "2. use `START` and `END` nodes to manage entry and exit points explicitly.\n",
    "3. design multiple nodes to perform different operations (addition, subtraction)\n",
    "4. create a router node to handle the decision making and control the flow of the graph\n",
    "\n",
    "Graph output:\n",
    "$$START -> router -> addition operation -> add_{node} -> END$$\n",
    "or \n",
    "$$START -> router -> subtract operation -> subtract_{node} -> END$$\n",
    "\n",
    "Based on the operation given the decision node (`router`) is going to termine what path to take.\n",
    "The goal of this graph is to use `add_conditional_edges()`."
   ]
  },
  {
   "cell_type": "code",
   "execution_count": null,
   "id": "98b67e9f",
   "metadata": {},
   "outputs": [],
   "source": [
    "from typing import TypeDict\n",
    "from langgraph.graph import StateGraph, START, END"
   ]
  },
  {
   "cell_type": "code",
   "execution_count": null,
   "id": "c6c53b70",
   "metadata": {},
   "outputs": [],
   "source": [
    "# define agent state\n",
    "# GOAL: pass in two numbers and two operations\n",
    "class AgentState(TypeDict):\n",
    "    num1: int\n",
    "    operation: str\n",
    "    num2: int\n",
    "    result: int  # result of the operation\n",
    "\n",
    "# define the node\n",
    "def adder(state: AgentState) -> AgentState:\n",
    "    \"\"\"This node addes the two numbers\"\"\"\n",
    "\n",
    "    state[\"result\"] = state[\"num1\"] + state[\"num2\"]\n",
    "    return state\n",
    "\n",
    "def subtracter(state: AgentState) -> AgentState:\n",
    "    \"\"\"This node subtracts the two numbers\"\"\"\n",
    "\n",
    "    state[\"result\"] = state[\"num1\"] - state[\"num2\"]\n",
    "    return state\n",
    "\n",
    "# this node is the decision maker based on the agent state schema (router)\n",
    "def decide_next_node(state: AgentState) -> AgentState:\n",
    "    \"\"\"This node will select the next node of the graph\"\"\"\n",
    "\n",
    "    # define the condition to run either the add node or subtract node\n",
    "    if state[\"operation\"] == \"+\":\n",
    "        # if the operation is a +, we need to return the edge definition\n",
    "        return \"addition_operation\"\n",
    "    elif state[\"operation\"] == \"-\":\n",
    "        return \"subtration_operation\"\n",
    "    \n",
    "    # this does not return the state, only the graph's edge (so when adding the node we will need to define a passthrough function)\n",
    "    \n",
    "# define the graph, nodes, and edges\n",
    "workflow = StateGraph(AgentState)\n",
    "workflow.add_node(\"add\", adder)\n",
    "workflow.add_node('subtract', subtracter)\n",
    "workflow.add_node(\"router\", lambda state:state) # you are inputing and output the state\n",
    "\n",
    "workflow.add_edge(START, \"route\")\n",
    "workflow.add_conditional_edges(\n",
    "    \"router\",  # src node\n",
    "    decide_next_node, # path\n",
    "    {  # path map\n",
    "        # edge: node\n",
    "        \"addition_operation\": \"add\",\n",
    "        \"subtraction_operation\": \"subtract\"\n",
    "    }\n",
    ")\n",
    "workflow.add_edge(\"add\", END)\n",
    "workflow.add_edge(\"subtract\", END)\n",
    "\n",
    "application = workflow.compile()\n"
   ]
  },
  {
   "cell_type": "code",
   "execution_count": null,
   "id": "d7fc9e10",
   "metadata": {},
   "outputs": [],
   "source": [
    "# extra step, but this visualizes the graph we created in LangGraph\n",
    "from IPython.display import Image, display\n",
    "display(Image(application.get_graph().draw_mermaid_png()))"
   ]
  }
 ],
 "metadata": {
  "kernelspec": {
   "display_name": "Python 3",
   "language": "python",
   "name": "python3"
  },
  "language_info": {
   "name": "python",
   "version": "3.11.4"
  }
 },
 "nbformat": 4,
 "nbformat_minor": 5
}
