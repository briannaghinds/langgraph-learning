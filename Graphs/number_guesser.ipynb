{
 "cells": [
  {
   "cell_type": "code",
   "execution_count": null,
   "id": "9ecf0801",
   "metadata": {},
   "outputs": [],
   "source": [
    "# this is the exercise for the looping graph graph\n",
    "from typing import TypedDict\n",
    "from langgraph.graph import StateGraph, START, END\n",
    "import random"
   ]
  },
  {
   "cell_type": "markdown",
   "id": "5ea3f335",
   "metadata": {},
   "source": [
    "The task for Graph 5 exercise is to make an automatice higher or lower game. "
   ]
  },
  {
   "cell_type": "code",
   "execution_count": null,
   "id": "807a129e",
   "metadata": {},
   "outputs": [],
   "source": [
    "# define the AgentState\n",
    "class AgentState(TypedDict):\n",
    "    player_name: str\n",
    "    guesses: list[int]\n",
    "    lower_bound: int  # the bounds will need to be adjusted after every guess\n",
    "    upper_bound: int\n",
    "\n",
    "\n",
    "# define the tool nodes\n",
    "def setup(state: AgentState) -> AgentState:\n",
    "    pass\n",
    "\n",
    "def guess(state: AgentState) -> AgentState:\n",
    "    agent_guess = random.randint(state[\"lower_bound\", \"upper_bound\"])\n",
    "    state[\"guesses\"].append(agent_guess)\n",
    "    return state\n",
    "\n",
    "\n"
   ]
  }
 ],
 "metadata": {
  "language_info": {
   "name": "python"
  }
 },
 "nbformat": 4,
 "nbformat_minor": 5
}
