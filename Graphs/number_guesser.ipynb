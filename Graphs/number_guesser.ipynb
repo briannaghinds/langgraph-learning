{
 "cells": [
  {
   "cell_type": "code",
   "execution_count": null,
   "id": "9ecf0801",
   "metadata": {},
   "outputs": [],
   "source": [
    "# this is the exercise for the looping graph graph\n",
    "from typing import TypedDict\n",
    "from langgraph.graph import StateGraph, START, END\n",
    "import random"
   ]
  }
 ],
 "metadata": {
  "language_info": {
   "name": "python"
  }
 },
 "nbformat": 4,
 "nbformat_minor": 5
}
