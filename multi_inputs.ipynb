{
 "cells": [
  {
   "cell_type": "markdown",
   "id": "f2e2ce7c",
   "metadata": {},
   "source": [
    "## Multi-Inputs Graph\n",
    "The objective of this agent is to:\n",
    "1. define a more *more complex* `AgentState`.\n",
    "2. create a processing node that performs operations on lists.\n",
    "3. set up a `LangGraph` that processes and outputs computed results.\n",
    "4. invoke and compile the graph with structured inputs and pull the outputs.\n",
    "\n",
    "Graph output: \n",
    "$$START -> Processing Method -> END$$"
   ]
  },
  {
   "cell_type": "code",
   "execution_count": 6,
   "id": "53e85e4f",
   "metadata": {},
   "outputs": [],
   "source": [
    "from typing import TypedDict\n",
    "from langgraph.graph import StateGraph\n",
    "import math"
   ]
  },
  {
   "cell_type": "code",
   "execution_count": null,
   "id": "eaee8dd2",
   "metadata": {},
   "outputs": [],
   "source": [
    "# define agent state \n",
    "\"\"\"\n",
    "The best way to know what to define in the AgentState is to know what the end goal is.\n",
    "In this case the end goal is to take handle and process multiple inputs. \n",
    "\"\"\"\n",
    "class AgentState(TypedDict):\n",
    "    # the different input types in values (list of intergers), name (str), and result (str)\n",
    "    values: list[int]\n",
    "    operation: str\n",
    "    name: str\n",
    "    result: str\n",
    "\n",
    "# define the tool methods -> docstring, state return\n",
    "def process_values(state: AgentState) -> AgentState:\n",
    "    \"\"\"This function handles multiple different inputs.\"\"\"\n",
    "\n",
    "    # define the updated result key value\n",
    "    if state[\"operation\"] == \"*\":\n",
    "        state[\"result\"] = f\"Hello {state['name']}! Your sum is {math.prod(state['values'])}\"\n",
    "    elif state[\"operation\"] == \"+\":\n",
    "        state[\"result\"] = f\"Hello {state['name']}! Your sum is {sum(state['values'])}\"\n",
    "    return state"
   ]
  },
  {
   "cell_type": "code",
   "execution_count": null,
   "id": "4bce2715",
   "metadata": {},
   "outputs": [],
   "source": [
    "# define the workflow, nodes, and edges\n",
    "workflow = StateGraph(AgentState)\n",
    "workflow.add_node(\"Processing\", process_values)\n",
    "workflow.set_entry_point(\"Processing\")\n",
    "workflow.set_finish_point(\"Processing\")\n",
    "application = workflow.compile()  # MAKE SURE TO ALWAYS COMPILE THE GRAPH IN A VARIABLE (allows us to call get_graph())"
   ]
  },
  {
   "cell_type": "code",
   "execution_count": 9,
   "id": "b021d8ea",
   "metadata": {},
   "outputs": [
    {
     "data": {
      "image/png": "[encoded data removed]",
      "text/plain": [
       "<IPython.core.display.Image object>"
      ]
     },
     "metadata": {},
     "output_type": "display_data"
    }
   ],
   "source": [
    "# extra step, but this visualizes the graph we created in LangGraph\n",
    "from IPython.display import Image, display\n",
    "display(Image(application.get_graph().draw_mermaid_png()))"
   ]
  },
  {
   "cell_type": "code",
   "execution_count": 11,
   "id": "5eaa6910",
   "metadata": {},
   "outputs": [
    {
     "data": {
      "text/plain": [
       "'Hello Bob! Your sum is 15'"
      ]
     },
     "execution_count": 11,
     "metadata": {},
     "output_type": "execute_result"
    }
   ],
   "source": [
    "input_val = {\n",
    "    \"values\": [1, 2, 3, 4, 5],\n",
    "    \"name\": \"Bob\",\n",
    "    \"operation\": \"+\"\n",
    "}\n",
    "answers = application.invoke(input_val)\n",
    "answers[\"result\"]"
   ]
  }
 ],
 "metadata": {
  "kernelspec": {
   "display_name": "Python 3",
   "language": "python",
   "name": "python3"
  },
  "language_info": {
   "codemirror_mode": {
    "name": "ipython",
    "version": 3
   },
   "file_extension": ".py",
   "mimetype": "text/x-python",
   "name": "python",
   "nbconvert_exporter": "python",
   "pygments_lexer": "ipython3",
   "version": "3.11.4"
  }
 },
 "nbformat": 4,
 "nbformat_minor": 5
}
