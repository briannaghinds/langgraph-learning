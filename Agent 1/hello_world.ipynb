{
 "cells": [
  {
   "cell_type": "markdown",
   "id": "ab7ee69c",
   "metadata": {},
   "source": [
    "## Hello World Agent\n",
    "START -> NODE -> END\n",
    "\n",
    "This graph definition is the simplest define that can be done in LangGraph."
   ]
  },
  {
   "cell_type": "code",
   "execution_count": null,
   "id": "23328931",
   "metadata": {},
   "outputs": [],
   "source": [
    "from typing import TypedDict, Dict\n",
    "from langgraph.graph import StateGraph"
   ]
  },
  {
   "cell_type": "code",
   "execution_count": null,
   "id": "35b1cd7e",
   "metadata": {},
   "outputs": [],
   "source": []
  }
 ],
 "metadata": {
  "kernelspec": {
   "display_name": "Python 3",
   "language": "python",
   "name": "python3"
  },
  "language_info": {
   "name": "python",
   "version": "3.11.4"
  }
 },
 "nbformat": 4,
 "nbformat_minor": 5
}
